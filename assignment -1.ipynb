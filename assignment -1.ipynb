{
 "cells": [
  {
   "cell_type": "markdown",
   "id": "d9cb8c75",
   "metadata": {},
   "source": [
    "# 1. In the below elements which of them are values or an expression? eg:- values can be integer or string and expressions will be mathematical operators."
   ]
  },
  {
   "cell_type": "code",
   "execution_count": null,
   "id": "f09be48e",
   "metadata": {},
   "outputs": [],
   "source": [
    " hello  :-value\n",
    "-87.8   :-value\n",
    "-       :-value\n",
    "/       :-Expression\n",
    "+\t    :-Expression\n",
    "6       :-vaue\n"
   ]
  },
  {
   "cell_type": "markdown",
   "id": "058b6529",
   "metadata": {},
   "source": [
    "# 2. What is the difference between string and variable?"
   ]
  },
  {
   "cell_type": "code",
   "execution_count": null,
   "id": "8d7fe7e5",
   "metadata": {},
   "outputs": [],
   "source": [
    "A Variable is a store of information, and a String is a type of information you would store in a Variable EX:- if x=7 then x is \n",
    "variable where 7 is located in the value of x."
   ]
  },
  {
   "cell_type": "markdown",
   "id": "ffe836dc",
   "metadata": {},
   "source": [
    "# 3. Describe three different data types?"
   ]
  },
  {
   "cell_type": "code",
   "execution_count": null,
   "id": "ece69a00",
   "metadata": {},
   "outputs": [],
   "source": [
    "Numeric Types:\tint , float , complex\n",
    "Sequence Types:\tlist , tuple , range\n",
    "Mapping Type:\tdict\n"
   ]
  },
  {
   "cell_type": "markdown",
   "id": "e6439036",
   "metadata": {},
   "source": [
    "# 4. What is an expression made up of? What do all expressions do?"
   ]
  },
  {
   "cell_type": "code",
   "execution_count": null,
   "id": "65d0872a",
   "metadata": {},
   "outputs": [],
   "source": [
    "An expression in Python is a combination of operators and operands. An example of expression can be : x = x + 50 x = x + 25 x=x+35. In this expression, the first 50 25 35 is added to the variable x. After the addition is performed, the result is assigned to the variable x."
   ]
  },
  {
   "cell_type": "markdown",
   "id": "f1ddc9c1",
   "metadata": {},
   "source": [
    "# 5. This assignment statements, like spam = 10. What is the difference between an expression and a statement?"
   ]
  },
  {
   "cell_type": "markdown",
   "id": "684b00ac",
   "metadata": {},
   "source": [
    "# 6. The Main Differences Between an Expression and a Statement in Programming. Expressions can be assigned or used as operands, while statements can only be declared. Statements create side effects to be useful, while expressions are values which need to be execute?"
   ]
  },
  {
   "cell_type": "code",
   "execution_count": null,
   "id": "c5032f07",
   "metadata": {},
   "outputs": [],
   "source": [
    "The bacon variable is set to 20. The bacon + 1 expression does not reassign the value in bacon (that would need an assignment statement: bacon = bacon + 1)"
   ]
  },
  {
   "cell_type": "markdown",
   "id": "ab0b3171",
   "metadata": {},
   "source": [
    "# 7. What should the values of the following two terms be?\n",
    "&#39;spam&#39; + &#39;spamspam&#39;\n",
    "&#39;spam&#39; * 3"
   ]
  },
  {
   "cell_type": "code",
   "execution_count": null,
   "id": "796cb457",
   "metadata": {},
   "outputs": [],
   "source": [
    "Both expressions evaluate to the string \"spamspamspam\""
   ]
  },
  {
   "cell_type": "markdown",
   "id": "046457e3",
   "metadata": {},
   "source": [
    "# 8. Why is eggs a valid variable name while 100 is invalid?"
   ]
  },
  {
   "cell_type": "code",
   "execution_count": null,
   "id": "1b975d70",
   "metadata": {},
   "outputs": [],
   "source": [
    "A varibale is start with alphabets not an number so it invalid."
   ]
  },
  {
   "cell_type": "markdown",
   "id": "f7ee78f2",
   "metadata": {},
   "source": [
    "# 9. What three functions can be used to get the integer, floating-point number, or string\n",
    "version of a value?"
   ]
  },
  {
   "cell_type": "code",
   "execution_count": null,
   "id": "b624c9ac",
   "metadata": {},
   "outputs": [],
   "source": [
    "The int(), float(), and str() functions will evaluate to the integer, floating-point number, and string version to execute the output."
   ]
  },
  {
   "cell_type": "markdown",
   "id": "8a39b3f7",
   "metadata": {},
   "source": [
    "# 10. Why does this expression cause an error? How can you fix it?\n",
    "&#39;I have eaten &#39; + 99 + &#39; burritos.&#39;"
   ]
  },
  {
   "cell_type": "code",
   "execution_count": null,
   "id": "42808e41",
   "metadata": {},
   "outputs": [],
   "source": [
    "The expression causes an error because 99 is an integer, and only strings can be concatenated to other strings with the + operator. The correct way is I have eaten ' + str(99) + ' burritos."
   ]
  }
 ],
 "metadata": {
  "kernelspec": {
   "display_name": "Python 3 (ipykernel)",
   "language": "python",
   "name": "python3"
  },
  "language_info": {
   "codemirror_mode": {
    "name": "ipython",
    "version": 3
   },
   "file_extension": ".py",
   "mimetype": "text/x-python",
   "name": "python",
   "nbconvert_exporter": "python",
   "pygments_lexer": "ipython3",
   "version": "3.9.13"
  }
 },
 "nbformat": 4,
 "nbformat_minor": 5
}
